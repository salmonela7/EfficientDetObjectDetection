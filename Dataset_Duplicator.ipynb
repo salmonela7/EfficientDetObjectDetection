{
 "cells": [
  {
   "cell_type": "code",
   "execution_count": 1,
   "metadata": {
    "collapsed": true
   },
   "outputs": [],
   "source": [
    "import pandas as pd\n",
    "import numpy as np\n",
    "import shutil"
   ]
  },
  {
   "cell_type": "code",
   "execution_count": 2,
   "outputs": [],
   "source": [
    "def create_row(image_id, row):\n",
    "    newRow=[]\n",
    "    newRow.append(image_id)\n",
    "    newRow.append(row[1])\n",
    "    newRow.append(row[2])\n",
    "    newRow.append(row[3])\n",
    "    newRow.append(row[4])\n",
    "    newRow.append(row[5])\n",
    "    newRow.append(row[6])\n",
    "    newRow.append(row[7])\n",
    "    return newRow"
   ],
   "metadata": {
    "collapsed": false,
    "pycharm": {
     "name": "#%%\n"
    }
   }
  },
  {
   "cell_type": "code",
   "execution_count": 3,
   "outputs": [
    {
     "name": "stdout",
     "output_type": "stream",
     "text": [
      "357\n",
      "340\n",
      "208\n",
      "1237\n",
      "357\n",
      "340\n",
      "208\n",
      "1237\n"
     ]
    }
   ],
   "source": [
    "csv_path = 'data/dataset/EfficientDetDataset/train/_annotations.csv'\n",
    "csv = pd.read_csv(csv_path)\n",
    "images_path = 'data/dataset/EfficientDetDataset/train'\n",
    "\n",
    "panda_image_ids = np.unique(np.array(csv.loc[csv['label'] == 'Panda'])[:,0])\n",
    "snake_image_ids = np.unique(np.array(csv.loc[csv['label'] == 'Snake'])[:,0])\n",
    "scissors_image_ids = np.unique(np.array(csv.loc[csv['label'] == 'Scissors'])[:,0])\n",
    "print(len(panda_image_ids))\n",
    "print(len(snake_image_ids))\n",
    "print(len(scissors_image_ids))\n",
    "print(len(csv))\n",
    "\n",
    "df = []\n",
    "\n",
    "for image_id in panda_image_ids:\n",
    "    new_image_id1 = f'copy1{image_id}'\n",
    "    rows = csv.loc[csv['image_id'] == image_id]\n",
    "    for i, row in enumerate(np.array(rows)):\n",
    "        new_row1 = create_row(new_image_id1, row)\n",
    "        df.append(new_row1)\n",
    "    shutil.copy(f'{images_path}/{image_id}', f'{images_path}/{new_image_id1}')\n",
    "\n",
    "for image_id in scissors_image_ids:\n",
    "    new_image_id1 = f'copy1{image_id}'\n",
    "    new_image_id2 = f'copy2{image_id}'\n",
    "    rows = csv.loc[csv['image_id'] == image_id]\n",
    "    for i, row in enumerate(np.array(rows)):\n",
    "        new_row1 = create_row(new_image_id1, row)\n",
    "        new_row2 = create_row(new_image_id2, row)\n",
    "        df.append(new_row1)\n",
    "        df.append(new_row2)\n",
    "    #shutil.copy(f'{images_path}/{image_id}', f'{images_path}/{new_image_id1}')\n",
    "    #shutil.copy(f'{images_path}/{image_id}', f'{images_path}/{new_image_id2}')\n",
    "\n",
    "for image_id in snake_image_ids:\n",
    "    new_image_id1 = f'copy1{image_id}'\n",
    "    rows = csv.loc[csv['image_id'] == image_id]\n",
    "    for i, row in enumerate(np.array(rows)):\n",
    "        new_row1 = create_row(new_image_id1, row)\n",
    "        df.append(new_row1)\n",
    "    #shutil.copy(f'{images_path}/{image_id}', f'{images_path}/{new_image_id1}')\n",
    "\n",
    "df = pd.DataFrame(df,columns=['image_id', 'width', 'height', 'label', 'xmin', 'ymin', 'xmax', 'ymax'])\n",
    "\n",
    "#with open(csv_path, 'a') as f:\n",
    "#    f.write('\\n')\n",
    "\n",
    "#df.to_csv(csv_path, mode='a', index=False, header=False)\n",
    "\n",
    "csv2 = pd.read_csv(csv_path)\n",
    "panda_image_ids = np.unique(np.array(csv2.loc[csv2['label'] == 'Panda'])[:,0])\n",
    "snake_image_ids = np.unique(np.array(csv2.loc[csv2['label'] == 'Snake'])[:,0])\n",
    "scissors_image_ids = np.unique(np.array(csv2.loc[csv2['label'] == 'Scissors'])[:,0])\n",
    "print(len(panda_image_ids))\n",
    "print(len(snake_image_ids))\n",
    "print(len(scissors_image_ids))\n",
    "print(len(csv2))"
   ],
   "metadata": {
    "collapsed": false,
    "pycharm": {
     "name": "#%%create copies of images\n"
    }
   }
  },
  {
   "cell_type": "code",
   "execution_count": null,
   "outputs": [],
   "source": [],
   "metadata": {
    "collapsed": false,
    "pycharm": {
     "name": "#%%\n"
    }
   }
  }
 ],
 "metadata": {
  "kernelspec": {
   "display_name": "Python 3",
   "language": "python",
   "name": "python3"
  },
  "language_info": {
   "codemirror_mode": {
    "name": "ipython",
    "version": 2
   },
   "file_extension": ".py",
   "mimetype": "text/x-python",
   "name": "python",
   "nbconvert_exporter": "python",
   "pygments_lexer": "ipython2",
   "version": "2.7.6"
  }
 },
 "nbformat": 4,
 "nbformat_minor": 0
}